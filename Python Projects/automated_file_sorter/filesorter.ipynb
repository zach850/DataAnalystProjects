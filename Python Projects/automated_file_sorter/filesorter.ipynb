{
 "cells": [
  {
   "cell_type": "code",
   "execution_count": 15,
   "metadata": {},
   "outputs": [],
   "source": [
    "import os, shutil\n",
    "\n",
    "#add your path here\n",
    "path = r\"C:\\\\Users\\\\Zach\\\\OneDrive\\Documents\\\\Data Analyst Projects\\\\Python Projects\\\\automated_file_sorter\\\\\"\n",
    "\n",
    "file_name = os.listdir(path)"
   ]
  },
  {
   "cell_type": "code",
   "execution_count": 16,
   "metadata": {},
   "outputs": [],
   "source": [
    "#add folder names \n",
    "folder_names = ['csv files', 'img files', 'txt files']\n",
    "\n",
    "for loop in range(len(folder_names)):\n",
    "    if not os.path.exists(path + folder_names[loop]):\n",
    "        os.makedirs((path + folder_names[loop]))\n",
    "        \n",
    "for file in file_name:\n",
    "    if \".csv\" in file and not os.path.exists(path + \"csv files\\\\\" + file):\n",
    "        shutil.move(path + file, path + \"csv files\\\\\" + file)\n",
    "    elif \".img\" in file and not os.path.exists(path + \"img files\\\\\" + file):\n",
    "        shutil.move(path + file, path + \"img files\\\\\" + file)\n",
    "    elif \".txt\" in file and not os.path.exists(path + \"txt files\\\\\" + file):\n",
    "        shutil.move(path + file, path + \"txt files\\\\\" + file)"
   ]
  }
 ],
 "metadata": {
  "kernelspec": {
   "display_name": "Python 3",
   "language": "python",
   "name": "python3"
  },
  "language_info": {
   "codemirror_mode": {
    "name": "ipython",
    "version": 3
   },
   "file_extension": ".py",
   "mimetype": "text/x-python",
   "name": "python",
   "nbconvert_exporter": "python",
   "pygments_lexer": "ipython3",
   "version": "3.11.4"
  },
  "orig_nbformat": 4
 },
 "nbformat": 4,
 "nbformat_minor": 2
}
